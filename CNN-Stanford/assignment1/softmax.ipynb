{
 "cells": [
  {
   "cell_type": "markdown",
   "metadata": {},
   "source": [
    "# Softmax exercise\n",
    "\n",
    "*Complete and hand in this completed worksheet (including its outputs and any supporting code outside of the worksheet) with your assignment submission. For more details see the [assignments page](http://vision.stanford.edu/teaching/cs231n/assignments.html) on the course website.*\n",
    "\n",
    "This exercise is analogous to the SVM exercise. You will:\n",
    "\n",
    "- implement a fully-vectorized **loss function** for the Softmax classifier\n",
    "- implement the fully-vectorized expression for its **analytic gradient**\n",
    "- **check your implementation** with numerical gradient\n",
    "- use a validation set to **tune the learning rate and regularization** strength\n",
    "- **optimize** the loss function with **SGD**\n",
    "- **visualize** the final learned weights\n"
   ]
  },
  {
   "cell_type": "code",
   "execution_count": 1,
   "metadata": {
    "collapsed": false
   },
   "outputs": [],
   "source": [
    "import random\n",
    "import numpy as np\n",
    "from cs231n.data_utils import load_CIFAR10\n",
    "import matplotlib.pyplot as plt\n",
    "%matplotlib inline\n",
    "plt.rcParams['figure.figsize'] = (10.0, 8.0) # set default size of plots\n",
    "plt.rcParams['image.interpolation'] = 'nearest'\n",
    "plt.rcParams['image.cmap'] = 'gray'\n",
    "\n",
    "# for auto-reloading extenrnal modules\n",
    "# see http://stackoverflow.com/questions/1907993/autoreload-of-modules-in-ipython\n",
    "%load_ext autoreload\n",
    "%autoreload 2"
   ]
  },
  {
   "cell_type": "code",
   "execution_count": 2,
   "metadata": {
    "collapsed": false
   },
   "outputs": [
    {
     "name": "stdout",
     "output_type": "stream",
     "text": [
      "Train data shape:  (49000, 3073)\n",
      "Train labels shape:  (49000,)\n",
      "Validation data shape:  (1000, 3073)\n",
      "Validation labels shape:  (1000,)\n",
      "Test data shape:  (1000, 3073)\n",
      "Test labels shape:  (1000,)\n",
      "dev data shape:  (500, 3073)\n",
      "dev labels shape:  (500,)\n"
     ]
    }
   ],
   "source": [
    "def get_CIFAR10_data(num_training=49000, num_validation=1000, num_test=1000, num_dev=500):\n",
    "  \"\"\"\n",
    "  Load the CIFAR-10 dataset from disk and perform preprocessing to prepare\n",
    "  it for the linear classifier. These are the same steps as we used for the\n",
    "  SVM, but condensed to a single function.  \n",
    "  \"\"\"\n",
    "  # Load the raw CIFAR-10 data\n",
    "  cifar10_dir = 'cs231n/datasets/cifar-10-batches-py'\n",
    "  X_train, y_train, X_test, y_test = load_CIFAR10(cifar10_dir)\n",
    "  \n",
    "  # subsample the data\n",
    "  mask = range(num_training, num_training + num_validation)\n",
    "  X_val = X_train[mask]\n",
    "  y_val = y_train[mask]\n",
    "  mask = range(num_training)\n",
    "  X_train = X_train[mask]\n",
    "  y_train = y_train[mask]\n",
    "  mask = range(num_test)\n",
    "  X_test = X_test[mask]\n",
    "  y_test = y_test[mask]\n",
    "  mask = np.random.choice(num_training, num_dev, replace=False)\n",
    "  X_dev = X_train[mask]\n",
    "  y_dev = y_train[mask]\n",
    "  \n",
    "  # Preprocessing: reshape the image data into rows\n",
    "  X_train = np.reshape(X_train, (X_train.shape[0], -1))\n",
    "  X_val = np.reshape(X_val, (X_val.shape[0], -1))\n",
    "  X_test = np.reshape(X_test, (X_test.shape[0], -1))\n",
    "  X_dev = np.reshape(X_dev, (X_dev.shape[0], -1))\n",
    "  \n",
    "  # Normalize the data: subtract the mean image\n",
    "  mean_image = np.mean(X_train, axis = 0)\n",
    "  X_train -= mean_image\n",
    "  X_val -= mean_image\n",
    "  X_test -= mean_image\n",
    "  X_dev -= mean_image\n",
    "  \n",
    "  # add bias dimension and transform into columns\n",
    "  X_train = np.hstack([X_train, np.ones((X_train.shape[0], 1))])\n",
    "  X_val = np.hstack([X_val, np.ones((X_val.shape[0], 1))])\n",
    "  X_test = np.hstack([X_test, np.ones((X_test.shape[0], 1))])\n",
    "  X_dev = np.hstack([X_dev, np.ones((X_dev.shape[0], 1))])\n",
    "  \n",
    "  return X_train, y_train, X_val, y_val, X_test, y_test, X_dev, y_dev\n",
    "\n",
    "\n",
    "# Invoke the above function to get our data.\n",
    "X_train, y_train, X_val, y_val, X_test, y_test, X_dev, y_dev = get_CIFAR10_data()\n",
    "print 'Train data shape: ', X_train.shape\n",
    "print 'Train labels shape: ', y_train.shape\n",
    "print 'Validation data shape: ', X_val.shape\n",
    "print 'Validation labels shape: ', y_val.shape\n",
    "print 'Test data shape: ', X_test.shape\n",
    "print 'Test labels shape: ', y_test.shape\n",
    "print 'dev data shape: ', X_dev.shape\n",
    "print 'dev labels shape: ', y_dev.shape"
   ]
  },
  {
   "cell_type": "markdown",
   "metadata": {},
   "source": [
    "## Softmax Classifier\n",
    "\n",
    "Your code for this section will all be written inside **cs231n/classifiers/softmax.py**. \n"
   ]
  },
  {
   "cell_type": "code",
   "execution_count": 3,
   "metadata": {
    "collapsed": false
   },
   "outputs": [
    {
     "name": "stdout",
     "output_type": "stream",
     "text": [
      "loss: 2.375084\n",
      "sanity check: 2.302585\n"
     ]
    }
   ],
   "source": [
    "# First implement the naive softmax loss function with nested loops.\n",
    "# Open the file cs231n/classifiers/softmax.py and implement the\n",
    "# softmax_loss_naive function.\n",
    "\n",
    "from cs231n.classifiers.softmax import softmax_loss_naive\n",
    "import time\n",
    "\n",
    "# Generate a random softmax weight matrix and use it to compute the loss.\n",
    "W = np.random.randn(3073, 10) * 0.0001\n",
    "loss, grad = softmax_loss_naive(W, X_dev, y_dev, 0.0)\n",
    "\n",
    "# As a rough sanity check, our loss should be something close to -log(0.1).\n",
    "print 'loss: %f' % loss\n",
    "print 'sanity check: %f' % (-np.log(0.1))"
   ]
  },
  {
   "cell_type": "markdown",
   "metadata": {},
   "source": [
    "## Inline Question 1:\n",
    "Why do we expect our loss to be close to -log(0.1)? Explain briefly.**\n",
    "\n",
    "**Your answer:** *Fill this in*\n"
   ]
  },
  {
   "cell_type": "code",
   "execution_count": 4,
   "metadata": {
    "collapsed": false
   },
   "outputs": [
    {
     "name": "stdout",
     "output_type": "stream",
     "text": [
      "numerical: -4.046708 analytic: -4.046708, relative error: 1.278554e-08\n",
      "numerical: -0.613108 analytic: -0.613109, relative error: 4.979591e-08\n",
      "numerical: 2.605483 analytic: 2.605483, relative error: 4.971110e-09\n",
      "numerical: -0.726882 analytic: -0.726882, relative error: 2.616216e-08\n",
      "numerical: 0.350583 analytic: 0.350583, relative error: 1.819532e-08\n",
      "numerical: -4.006725 analytic: -4.006725, relative error: 1.408486e-09\n",
      "numerical: 1.023187 analytic: 1.023187, relative error: 6.594978e-09\n",
      "numerical: 2.592419 analytic: 2.592419, relative error: 1.413834e-08\n",
      "numerical: -0.674776 analytic: -0.674776, relative error: 2.758193e-08\n",
      "numerical: 1.473103 analytic: 1.473103, relative error: 2.894370e-08\n",
      "numerical: -1.839851 analytic: -1.839851, relative error: 1.225215e-08\n",
      "numerical: -0.143850 analytic: -0.143850, relative error: 1.149879e-07\n",
      "numerical: -3.725072 analytic: -3.725072, relative error: 5.961245e-09\n",
      "numerical: -0.005914 analytic: -0.005914, relative error: 2.097911e-06\n",
      "numerical: 0.865900 analytic: 0.865900, relative error: 3.412206e-08\n",
      "numerical: -2.995543 analytic: -2.995543, relative error: 1.459890e-09\n",
      "numerical: -0.666599 analytic: -0.666599, relative error: 1.673543e-08\n",
      "numerical: -0.538138 analytic: -0.538138, relative error: 2.427139e-08\n",
      "numerical: -5.644619 analytic: -5.644619, relative error: 1.612332e-08\n",
      "numerical: -0.313695 analytic: -0.313695, relative error: 1.226714e-08\n"
     ]
    }
   ],
   "source": [
    "# Complete the implementation of softmax_loss_naive and implement a (naive)\n",
    "# version of the gradient that uses nested loops.\n",
    "loss, grad = softmax_loss_naive(W, X_dev, y_dev, 0.0)\n",
    "\n",
    "# As we did for the SVM, use numeric gradient checking as a debugging tool.\n",
    "# The numeric gradient should be close to the analytic gradient.\n",
    "from cs231n.gradient_check import grad_check_sparse\n",
    "f = lambda w: softmax_loss_naive(w, X_dev, y_dev, 0.0)[0]\n",
    "grad_numerical = grad_check_sparse(f, W, grad, 10)\n",
    "\n",
    "# similar to SVM case, do another gradient check with regularization\n",
    "loss, grad = softmax_loss_naive(W, X_dev, y_dev, 1e2)\n",
    "f = lambda w: softmax_loss_naive(w, X_dev, y_dev, 1e2)[0]\n",
    "grad_numerical = grad_check_sparse(f, W, grad, 10)"
   ]
  },
  {
   "cell_type": "code",
   "execution_count": 5,
   "metadata": {
    "collapsed": false
   },
   "outputs": [
    {
     "name": "stdout",
     "output_type": "stream",
     "text": [
      "naive loss: 2.375084e+00 computed in 0.103133s\n",
      "vectorized loss: 2.375084e+00 computed in 0.004749s\n",
      "Loss difference: 0.000000\n",
      "Gradient difference: 0.000000\n"
     ]
    }
   ],
   "source": [
    "# Now that we have a naive implementation of the softmax loss function and its gradient,\n",
    "# implement a vectorized version in softmax_loss_vectorized.\n",
    "# The two versions should compute the same results, but the vectorized version should be\n",
    "# much faster.\n",
    "tic = time.time()\n",
    "loss_naive, grad_naive = softmax_loss_naive(W, X_dev, y_dev, 0.00001)\n",
    "toc = time.time()\n",
    "print 'naive loss: %e computed in %fs' % (loss_naive, toc - tic)\n",
    "\n",
    "from cs231n.classifiers.softmax import softmax_loss_vectorized\n",
    "tic = time.time()\n",
    "loss_vectorized, grad_vectorized = softmax_loss_vectorized(W, X_dev, y_dev, 0.00001)\n",
    "toc = time.time()\n",
    "print 'vectorized loss: %e computed in %fs' % (loss_vectorized, toc - tic)\n",
    "\n",
    "# As we did for the SVM, we use the Frobenius norm to compare the two versions\n",
    "# of the gradient.\n",
    "grad_difference = np.linalg.norm(grad_naive - grad_vectorized, ord='fro')\n",
    "print 'Loss difference: %f' % np.abs(loss_naive - loss_vectorized)\n",
    "print 'Gradient difference: %f' % grad_difference"
   ]
  },
  {
   "cell_type": "code",
   "execution_count": 8,
   "metadata": {
    "collapsed": false
   },
   "outputs": [
    {
     "name": "stdout",
     "output_type": "stream",
     "text": [
      "iteration 0 / 1000: loss 1553.811436\n",
      "iteration 100 / 1000: loss 2.238166\n",
      "iteration 200 / 1000: loss 2.155295\n",
      "iteration 300 / 1000: loss 2.170026\n",
      "iteration 400 / 1000: loss 2.151523\n",
      "iteration 500 / 1000: loss 2.201518\n",
      "iteration 600 / 1000: loss 2.193943\n",
      "iteration 700 / 1000: loss 2.138960\n",
      "iteration 800 / 1000: loss 2.225802\n",
      "iteration 900 / 1000: loss 2.193636\n",
      "iteration 0 / 1000: loss 20.754339\n",
      "iteration 100 / 1000: loss 10.613456\n",
      "iteration 200 / 1000: loss 6.838230\n",
      "iteration 300 / 1000: loss 4.529919\n",
      "iteration 400 / 1000: loss 3.377524\n",
      "iteration 500 / 1000: loss 2.662363\n",
      "iteration 600 / 1000: loss 2.350409\n",
      "iteration 700 / 1000: loss 2.184993\n",
      "iteration 800 / 1000: loss 2.002404\n",
      "iteration 900 / 1000: loss 2.037512\n",
      "iteration 0 / 1000: loss 160.948642\n",
      "iteration 100 / 1000: loss 2.490933\n",
      "iteration 200 / 1000: loss 1.973600\n",
      "iteration 300 / 1000: loss 1.995084\n",
      "iteration 400 / 1000: loss 2.080706\n",
      "iteration 500 / 1000: loss 2.002274\n",
      "iteration 600 / 1000: loss 1.943152\n",
      "iteration 700 / 1000: loss 2.010715\n",
      "iteration 800 / 1000: loss 1.992207\n",
      "iteration 900 / 1000: loss 1.961629\n",
      "iteration 0 / 1000: loss 1532.114503\n",
      "iteration 100 / 1000: loss 2.201021\n",
      "iteration 200 / 1000: loss 2.238861\n",
      "iteration 300 / 1000: loss 2.198472\n",
      "iteration 400 / 1000: loss 2.130030\n",
      "iteration 500 / 1000: loss 2.234934\n",
      "iteration 600 / 1000: loss 2.258855\n",
      "iteration 700 / 1000: loss 2.207514\n",
      "iteration 800 / 1000: loss 2.199988\n",
      "iteration 900 / 1000: loss 2.195695\n",
      "iteration 0 / 1000: loss 21.066816\n",
      "iteration 100 / 1000: loss 10.253762\n",
      "iteration 200 / 1000: loss 6.366168\n",
      "iteration 300 / 1000: loss 4.234506\n",
      "iteration 400 / 1000: loss 3.112762\n",
      "iteration 500 / 1000: loss 2.561928\n",
      "iteration 600 / 1000: loss 2.123548\n",
      "iteration 700 / 1000: loss 1.925346\n",
      "iteration 800 / 1000: loss 1.938125\n",
      "iteration 900 / 1000: loss 1.912715\n",
      "iteration 0 / 1000: loss 161.245029\n",
      "iteration 100 / 1000: loss 2.339199\n",
      "iteration 200 / 1000: loss 1.993051\n",
      "iteration 300 / 1000: loss 2.023367\n",
      "iteration 400 / 1000: loss 2.019576\n",
      "iteration 500 / 1000: loss 1.980950\n",
      "iteration 600 / 1000: loss 1.999513\n",
      "iteration 700 / 1000: loss 2.034478\n",
      "iteration 800 / 1000: loss 1.947032\n",
      "iteration 900 / 1000: loss 1.932566\n",
      "lr 2.780000e-06 reg 1.000000e+03 train accuracy: 0.405939 val accuracy: 0.400000\n",
      "lr 2.780000e-06 reg 1.000000e+04 train accuracy: 0.364918 val accuracy: 0.368000\n",
      "lr 2.780000e-06 reg 1.000000e+05 train accuracy: 0.249633 val accuracy: 0.257000\n",
      "lr 3.000000e-06 reg 1.000000e+03 train accuracy: 0.396673 val accuracy: 0.402000\n",
      "lr 3.000000e-06 reg 1.000000e+04 train accuracy: 0.324837 val accuracy: 0.344000\n",
      "lr 3.000000e-06 reg 1.000000e+05 train accuracy: 0.265020 val accuracy: 0.281000\n",
      "best validation accuracy achieved during cross-validation: 0.402000\n"
     ]
    }
   ],
   "source": [
    "# Use the validation set to tune hyperparameters (regularization strength and\n",
    "# learning rate). You should experiment with different ranges for the learning\n",
    "# rates and regularization strengths; if you are careful you should be able to\n",
    "# get a classification accuracy of over 0.35 on the validation set.\n",
    "from cs231n.classifiers import Softmax\n",
    "results = {}\n",
    "best_val = -1\n",
    "best_softmax = None\n",
    "learning_rates = [2.78e-6, 3e-6]\n",
    "regularization_strengths = [1e5, 1e3, 1e4]\n",
    "\n",
    "################################################################################\n",
    "# TODO:                                                                        #\n",
    "# Use the validation set to set the learning rate and regularization strength. #\n",
    "# This should be identical to the validation that you did for the SVM; save    #\n",
    "# the best trained softmax classifer in best_softmax.                          #\n",
    "################################################################################\n",
    "for lr in learning_rates:\n",
    "    for rs in regularization_strengths:\n",
    "        softmax = Softmax()\n",
    "        loss_hint = softmax.train(X_train, y_train, learning_rate=lr, reg=rs,\n",
    "                      num_iters=1000, verbose=True)\n",
    "        y_train_pred = softmax.predict(X_train)\n",
    "        y_val_pred = softmax.predict(X_val)\n",
    "        cur_val_accuracy = np.mean(y_val == y_val_pred)\n",
    "        cur_train_accuracy = np.mean(y_train == y_train_pred)\n",
    "        results[(lr,rs)] = (cur_train_accuracy,cur_val_accuracy)\n",
    "        if cur_val_accuracy > best_val:\n",
    "            best_val = cur_val_accuracy\n",
    "            best_softmax = Softmax()\n",
    "            best_softmax.train(X_train, y_train, learning_rate=lr, reg=rs, num_iters=1500)\n",
    "    \n",
    "# Print out results.\n",
    "for lr, reg in sorted(results):\n",
    "    train_accuracy, val_accuracy = results[(lr, reg)]\n",
    "    print 'lr %e reg %e train accuracy: %f val accuracy: %f' % (\n",
    "                lr, reg, train_accuracy, val_accuracy)\n",
    "    \n",
    "print 'best validation accuracy achieved during cross-validation: %f' % best_val"
   ]
  },
  {
   "cell_type": "code",
   "execution_count": 9,
   "metadata": {
    "collapsed": false
   },
   "outputs": [
    {
     "name": "stdout",
     "output_type": "stream",
     "text": [
      "softmax on raw pixels final test set accuracy: 0.383000\n"
     ]
    }
   ],
   "source": [
    "# evaluate on test set\n",
    "# Evaluate the best softmax on test set\n",
    "y_test_pred = best_softmax.predict(X_test)\n",
    "test_accuracy = np.mean(y_test == y_test_pred)\n",
    "print 'softmax on raw pixels final test set accuracy: %f' % (test_accuracy, )"
   ]
  },
  {
   "cell_type": "code",
   "execution_count": 10,
   "metadata": {
    "collapsed": false
   },
   "outputs": [
    {
     "data": {
      "image/png": "[encoded data removed]",
      "text/plain": [
       "<matplotlib.figure.Figure at 0x107faaa50>"
      ]
     },
     "metadata": {},
     "output_type": "display_data"
    }
   ],
   "source": [
    "# Visualize the learned weights for each class\n",
    "w = best_softmax.W[:-1,:] # strip out the bias\n",
    "w = w.reshape(32, 32, 3, 10)\n",
    "\n",
    "w_min, w_max = np.min(w), np.max(w)\n",
    "\n",
    "classes = ['plane', 'car', 'bird', 'cat', 'deer', 'dog', 'frog', 'horse', 'ship', 'truck']\n",
    "for i in xrange(10):\n",
    "  plt.subplot(2, 5, i + 1)\n",
    "  \n",
    "  # Rescale the weights to be between 0 and 255\n",
    "  wimg = 255.0 * (w[:, :, :, i].squeeze() - w_min) / (w_max - w_min)\n",
    "  plt.imshow(wimg.astype('uint8'))\n",
    "  plt.axis('off')\n",
    "  plt.title(classes[i])"
   ]
  }
 ],
 "metadata": {
  "anaconda-cloud": {},
  "kernelspec": {
   "display_name": "Python 2",
   "language": "python",
   "name": "python2"
  },
  "language_info": {
   "codemirror_mode": {
    "name": "ipython",
    "version": 2
   },
   "file_extension": ".py",
   "mimetype": "text/x-python",
   "name": "python",
   "nbconvert_exporter": "python",
   "pygments_lexer": "ipython2",
   "version": "2.7.12"
  }
 },
 "nbformat": 4,
 "nbformat_minor": 0
}
